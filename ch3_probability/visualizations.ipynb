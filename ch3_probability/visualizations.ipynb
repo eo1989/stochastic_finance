{
 "cells": [
  {
   "cell_type": "markdown",
   "id": "f92d6f6b",
   "metadata": {},
   "source": [
    "#### NOTE: More notes to be transferred later."
   ]
  },
  {
   "cell_type": "markdown",
   "id": "8d5f1dc6",
   "metadata": {},
   "source": [
    "### Variance:\n",
    "- The `expected value` of the square of the distance of the `random variable` from the `mean`. Given by:\n",
    "$$\n",
    "\\begin{align}\n",
    "\\text{Var}(X) = \\mathbb{E}[(X - \\mathbb{E}(X))^2] = \\sum_{x} (x - \\mathbb{E}(X))^2 f(x), \\enspace &\\text{if} f(x) \\text{ is PMF} \\\\\n",
    "\\text{Var}(X) = \\mathbb{E}[(X - \\mathbb{E}(X))^2] = \\int_x (x - \\mathbb{E}(X))^2 f(x) dx,\\enspace &\\text{if} f(x) \\text{ is PDF}\n",
    "\\end{align}\n",
    "$$\n",
    "Variance is the measure of dispersion and uncertainty present within a distribution. From a *stochastic finance* perspective, variance is the indicator of risk present in an asset. It can be computed using a probability distribution and the *Var(x)* expression above. Computation is essentially a litmus test for investors as a higher resulting variance, either from returns or directly from asset values, indicates ups and downs that can lead to potential losses. This is treated like a fundamental theorem in stochastic finance.\n",
    "\n",
    "### Moments:\n",
    "Generic version of *expectation* and *variance* as its taken for a random variable raised to a specific power and wrt a base, as shown below:\n",
    "$$\n",
    "\\begin{align}\n",
    "m_r^c = \\mathbb{E}[(X-c)^r] = \\sum_{x} (x - c)^r f(x), \\enspace &\\text{if} f(x) \\text{ is PMF} \\\\\n",
    "m_r^c = \\mathbb{E}[(X-c)^r] = \\int_x (x - c)^r f(x) dx,\\enspace &\\text{if} f(x) \\text{ is PDF}\n",
    "\\end{align}\n",
    "$$\n",
    "Where $c$ is the base and $r$ is the power and $m_r^c$ is known as the *rth* order moment about $c$. Any moment with base zero, i.e. $c = 0$, is known as a *raw moment* denoted by $m_r$, whereas the same with base mean $(c = \\mathbb{E}(X))$ is the *central moment* denoted by $\\mu_r$.\n",
    "\n",
    "The *mean* and *variance* are nothing but the *first-order raw moment* and *second-order central moment*, i.e., $m_1$ and $\\mu_2$, respectively.\n",
    "Momdents indicate how the mass of the distribution is spread across. Higher moemnts (higher values for $r$) give high values in the distribution whereas $m_1$ is the center of mass. Theyre considered as junction points of the distribution exhibiting certain statistical properties. One informal way of comparing two probability distributions is by comparing their moments of several orders, especially for PDFs. You can try matching certain junction points to check the equality of two distributions instead of comparing the whole distribution pointwise; hence, moments have a role to play. Moments can be used to model security prices with `jumps`.\n",
    "\n",
    "### Moment Approximation:\n",
    "\n",
    "\n",
    "### Poisson Distribution:\n",
    "PMF of a Poisson distribution is:\n",
    "$$\n",
    "f_\\text{poisson}(x) = \\frac{\\lambda^{x}}{x!}e^{-\\lambda}, \\enspace \\lambda > 0, \\enspace x = 0, 1, 2 \\ldots\n",
    "$$\n",
    "where $\\lambda$ is the parameter of the Poisson PMF."
   ]
  },
  {
   "cell_type": "code",
   "execution_count": 1,
   "id": "042668b9",
   "metadata": {},
   "outputs": [],
   "source": [
    "# import pandas as pd\n",
    "import numpy as np\n",
    "# import seaborn as sns\n",
    "# import matplotlib.pyplot as plt\n",
    "from scipy.stats import poisson\n",
    "import visualization as vs3\n",
    "\n",
    "\n",
    "def poisson_distribution():\n",
    "    lamdas = [1, 4, 10, 40]\n",
    "\n",
    "    x = np.arange(0, 15)\n",
    "\n",
    "    # grab probabilities of input x for different lambda values\n",
    "    prob_x = {\n",
    "        lamda: (\n",
    "            # pmf returns the probability of input x from poisson PMF\n",
    "            poisson(lamda).pmf(x),\n",
    "        )\n",
    "        for lamda in lamdas\n",
    "    }\n",
    "    # plotting x vs probabilities for different \\lambda values\n",
    "    vs3.poisson_plot(prob_x)\n"
   ]
  },
  {
   "cell_type": "code",
   "execution_count": 2,
   "id": "f8ea86d2",
   "metadata": {},
   "outputs": [
    {
     "ename": "IndexError",
     "evalue": "tuple index out of range",
     "output_type": "error",
     "traceback": [
      "\u001b[31m---------------------------------------------------------------------------\u001b[39m",
      "\u001b[31mIndexError\u001b[39m                                Traceback (most recent call last)",
      "\u001b[36mCell\u001b[39m\u001b[36m \u001b[39m\u001b[32mIn[2]\u001b[39m\u001b[32m, line 1\u001b[39m\n\u001b[32m----> \u001b[39m\u001b[32m1\u001b[39m \u001b[43mpoisson_distribution\u001b[49m\u001b[43m(\u001b[49m\u001b[43m)\u001b[49m\n",
      "\u001b[36mCell\u001b[39m\u001b[36m \u001b[39m\u001b[32mIn[1]\u001b[39m\u001b[32m, line 23\u001b[39m, in \u001b[36mpoisson_distribution\u001b[39m\u001b[34m()\u001b[39m\n\u001b[32m     15\u001b[39m prob_x = {\n\u001b[32m     16\u001b[39m     lamda: (\n\u001b[32m     17\u001b[39m         \u001b[38;5;66;03m# pmf returns the probability of input x from poisson PMF\u001b[39;00m\n\u001b[32m   (...)\u001b[39m\u001b[32m     20\u001b[39m     \u001b[38;5;28;01mfor\u001b[39;00m lamda \u001b[38;5;129;01min\u001b[39;00m lamdas\n\u001b[32m     21\u001b[39m }\n\u001b[32m     22\u001b[39m \u001b[38;5;66;03m# plotting x vs probabilities for different \\lambda values\u001b[39;00m\n\u001b[32m---> \u001b[39m\u001b[32m23\u001b[39m \u001b[43mvs3\u001b[49m\u001b[43m.\u001b[49m\u001b[43mpoisson_plot\u001b[49m\u001b[43m(\u001b[49m\u001b[43mprob_x\u001b[49m\u001b[43m)\u001b[49m\n",
      "\u001b[36mFile \u001b[39m\u001b[32m~/Dev/stochastic_finance/probability/visualization.py:81\u001b[39m, in \u001b[36mpoisson_plot\u001b[39m\u001b[34m(poisson_lambda_x_prob)\u001b[39m\n\u001b[32m     78\u001b[39m     ax[r, col].set_ylabel(\u001b[33m\"\u001b[39m\u001b[33mProbs\u001b[39m\u001b[33m\"\u001b[39m)\n\u001b[32m     80\u001b[39m \u001b[38;5;28;01mwhile\u001b[39;00m i < n:\n\u001b[32m---> \u001b[39m\u001b[32m81\u001b[39m     \u001b[43m_axis_plot_lambda\u001b[49m\u001b[43m(\u001b[49m\u001b[43mpoisson_lambda_x_prob\u001b[49m\u001b[43m[\u001b[49m\u001b[43mlamdas\u001b[49m\u001b[43m[\u001b[49m\u001b[43mi\u001b[49m\u001b[43m]\u001b[49m\u001b[43m]\u001b[49m\u001b[43m,\u001b[49m\u001b[43m \u001b[49m\u001b[32;43m0\u001b[39;49m\u001b[43m)\u001b[49m\n\u001b[32m     82\u001b[39m     i = i + \u001b[32m1\u001b[39m\n\u001b[32m     83\u001b[39m     _axis_plot_lambda(poisson_lambda_x_prob[lamdas[i]], \u001b[32m1\u001b[39m)\n",
      "\u001b[36mFile \u001b[39m\u001b[32m~/Dev/stochastic_finance/probability/visualization.py:76\u001b[39m, in \u001b[36mpoisson_plot.<locals>._axis_plot_lambda\u001b[39m\u001b[34m(record, col)\u001b[39m\n\u001b[32m     74\u001b[39m \u001b[38;5;28;01mdef\u001b[39;00m\u001b[38;5;250m \u001b[39m\u001b[34m_axis_plot_lambda\u001b[39m(record, col):\n\u001b[32m     75\u001b[39m     ax[r, col].set_title(\u001b[33mf\u001b[39m\u001b[33m\"\u001b[39m\u001b[33mλ = \u001b[39m\u001b[38;5;132;01m{\u001b[39;00m\u001b[38;5;28mstr\u001b[39m(lamdas[i])\u001b[38;5;132;01m}\u001b[39;00m\u001b[33m\"\u001b[39m)\n\u001b[32m---> \u001b[39m\u001b[32m76\u001b[39m     ax[r, col].vlines(x=record[\u001b[32m0\u001b[39m], ymin=\u001b[32m0\u001b[39m, ymax=\u001b[43mrecord\u001b[49m\u001b[43m[\u001b[49m\u001b[32;43m1\u001b[39;49m\u001b[43m]\u001b[49m)\n\u001b[32m     77\u001b[39m     ax[r, col].set_xlabel(\u001b[33m\"\u001b[39m\u001b[33mX\u001b[39m\u001b[33m\"\u001b[39m)\n\u001b[32m     78\u001b[39m     ax[r, col].set_ylabel(\u001b[33m\"\u001b[39m\u001b[33mProbs\u001b[39m\u001b[33m\"\u001b[39m)\n",
      "\u001b[31mIndexError\u001b[39m: tuple index out of range"
     ]
    },
    {
     "data": {
      "image/png": "[encoded data removed]",
      "text/plain": [
       "<Figure size 800x550 with 4 Axes>"
      ]
     },
     "metadata": {},
     "output_type": "display_data"
    }
   ],
   "source": [
    "poisson_distribution()"
   ]
  },
  {
   "cell_type": "code",
   "execution_count": null,
   "id": "81286988",
   "metadata": {},
   "outputs": [],
   "source": []
  },
  {
   "cell_type": "markdown",
   "id": "16e206e6",
   "metadata": {},
   "source": []
  }
 ],
 "metadata": {
  "kernelspec": {
   "display_name": "Gen",
   "language": "python",
   "name": "python3"
  },
  "language_info": {
   "codemirror_mode": {
    "name": "ipython",
    "version": 3
   },
   "file_extension": ".py",
   "mimetype": "text/x-python",
   "name": "python",
   "nbconvert_exporter": "python",
   "pygments_lexer": "ipython3",
   "version": "3.12.7"
  }
 },
 "nbformat": 4,
 "nbformat_minor": 5
}
